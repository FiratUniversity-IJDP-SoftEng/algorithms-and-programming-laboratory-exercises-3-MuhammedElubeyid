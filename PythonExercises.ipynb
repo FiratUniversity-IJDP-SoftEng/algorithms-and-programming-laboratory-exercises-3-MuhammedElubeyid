{
 "cells": [
  {
   "cell_type": "markdown",
   "metadata": {},
   "source": [
    "# Algorithms and Programming\n",
    "# Exercise Notebook (Intermediate Level)\n",
    "\n",
    "### Name: Muhammed Elubeyid\n",
    "### Student ID: 220543603\n",
    "### Date: 4/7/2025\n",
    "\n"
   ]
  },
  {
   "cell_type": "markdown",
   "metadata": {},
   "source": [
    "\n",
    "# Question 1\n",
    "### Write a Python function `is_prime` that determines if the given integer is a prime number.\n",
    "\n",
    "### Test your function\n",
    "```python\n",
    "print(is_prime(11))  # Expected output: True\n",
    "print(is_prime(15))  # Expected output: False\n",
    "```\n",
    "\n"
   ]
  },
  {
   "cell_type": "code",
   "execution_count": null,
   "metadata": {},
   "outputs": [],
   "source": [
    "# Your solution here\n",
    "def is_prime(n):\n",
    "    if n<2:\n",
    "        return False\n",
    "    else:\n",
    "     for i in range(2,n//2+ 1):\n",
    "         if n%i== 0:\n",
    "             return False\n",
    "     else:\n",
    "         return True\n",
    "print(is_prime(11))  # Expected output: True\n",
    "print(is_prime(15))  # Expected output: False"
   ]
  },
  {
   "cell_type": "markdown",
   "metadata": {},
   "source": [
    "# Question 2\n",
    "### Write a Python function `gcd` that calculates the greatest common divisor of two integers using the Euclidean algorithm.\n",
    "\n",
    "### Test your function\n",
    "```python\n",
    "print(gcd(48, 18))  # Expected output: 6\n",
    "print(gcd(100, 25))  # Expected output: 25\n",
    "```"
   ]
  },
  {
   "cell_type": "code",
   "execution_count": null,
   "metadata": {},
   "outputs": [],
   "source": [
    "# Your solution here\n",
    "def gcd(m1, m2):\n",
    "    if m2 < m1:\n",
    "        n2 = m1\n",
    "        n1 = m2\n",
    "    else:\n",
    "        n2 = m2\n",
    "        n1 = m1\n",
    "\n",
    "    while True:\n",
    "        n = n2 % n1\n",
    "        if n == 0:\n",
    "            return n1\n",
    "        n2 = n1\n",
    "        n1 = n\n",
    "\n",
    "print(gcd(18, 48))  # Expected output: 6\n",
    "print(gcd(25, 100))  # Expected output: 25\n",
    "\n"
   ]
  },
  {
   "cell_type": "markdown",
   "metadata": {},
   "source": [
    "# Question 3\n",
    "### Write a Python function `count_vowels` that takes a string as input and returns the count of vowels (a, e, i, o, u) in the string.\n",
    "\n",
    "### Test your function\n",
    "```python\n",
    "print(count_vowels(\"intermediate\"))  # Expected output: 5\n",
    "print(count_vowels(\"algorithm\"))  # Expected output: 3\n",
    "```"
   ]
  },
  {
   "cell_type": "code",
   "execution_count": null,
   "metadata": {},
   "outputs": [],
   "source": [
    "# Your solution here\n",
    "def count_vowels(string):\n",
    "    vowels= ['a', 'e', 'i', 'o', 'u']\n",
    "    counter= 0\n",
    "    for i in string.lower():\n",
    "        if i in vowels:\n",
    "            counter+= 1\n",
    "    return counter\n",
    "\n",
    "print(count_vowels(\"intermediate\"))  # Expected output: 5\n",
    "print(count_vowels(\"algorithm\"))  # Expected output: 3"
   ]
  },
  {
   "cell_type": "markdown",
   "metadata": {},
   "source": [
    "# Question 4\n",
    "### Write a Python function `merge_sorted_lists` that merges two sorted lists into a single sorted list without using built-in sort functions.\n",
    "\n",
    "### Test your function\n",
    "```python\n",
    "print(merge_sorted_lists([1, 3, 5], [2, 4, 6]))  # Expected output: [1, 2, 3, 4, 5, 6]\n",
    "print(merge_sorted_lists([-3, 0, 7], [-1, 4, 10]))  # Expected output: [-3, -1, 0, 4, 7, 10]\n",
    "```\n"
   ]
  },
  {
   "cell_type": "code",
   "execution_count": null,
   "metadata": {},
   "outputs": [],
   "source": [
    "# Your solution here\n",
    "def merge_sorted_lists(list1, list2):\n",
    "    ##list1= list1.extend([list2])  return None \n",
    "    list1.extend(list2)\n",
    "    #list1+= list2\n",
    "    n1= 0\n",
    "    for _ in range(len(list1)):\n",
    "      flag= False\n",
    "      for i in range(len(list1)-1):\n",
    "          if list1[i] > list1[i+1]:\n",
    "              n1= list1[i]\n",
    "              list1[i]= list1[i+1]\n",
    "              list1[i+ 1]= n1\n",
    "              flag= True\n",
    "      if not flag:\n",
    "          break\n",
    "    return list1\n",
    "\n",
    "\n",
    "\n",
    "print(merge_sorted_lists([1, 3, 5], [2, 4, 6]))  # Expected output: [1, 2, 3, 4, 5, 6]\n",
    "print(merge_sorted_lists([-3, 0, 7], [-1, 4, 10]))  # Expected output: [-3, -1, 0, 4, 7, 10]\n"
   ]
  },
  {
   "cell_type": "markdown",
   "metadata": {},
   "source": [
    "# Question 5\n",
    "### Write a Python function `binary_search` that implements the binary search algorithm on a sorted list and returns the index of the element if found, or -1 if not found.\n",
    "\n",
    "### Test your function\n",
    "```python\n",
    "print(binary_search([1, 3, 5, 7, 9, 11], 7))  # Expected output: 3\n",
    "print(binary_search([2, 4, 6, 8, 10], 5))  # Expected output: -1\n",
    "```"
   ]
  },
  {
   "cell_type": "code",
   "execution_count": null,
   "metadata": {},
   "outputs": [],
   "source": [
    "# Your solution here\n",
    "def binary_search(list, num):\n",
    "    L= 0\n",
    "    R= len(list)- 1\n",
    "\n",
    "    while L<=R:\n",
    "        M= (L+ R)// 2\n",
    "        if num== list[M]:\n",
    "            return M\n",
    "        elif num < list[M]:\n",
    "            R= M- 1\n",
    "        else:\n",
    "            L= M+ 1\n",
    "    return -1\n",
    "\n",
    "\n",
    "print(binary_search([1, 3, 5, 7, 9, 11], 7))  # Expected output: 3\n",
    "print(binary_search([2, 4, 6, 8, 10], 5))  # Expected output: -1\n"
   ]
  },
  {
   "cell_type": "markdown",
   "metadata": {},
   "source": []
  }
 ],
 "metadata": {
  "language_info": {
   "name": "python"
  }
 },
 "nbformat": 4,
 "nbformat_minor": 2
}
